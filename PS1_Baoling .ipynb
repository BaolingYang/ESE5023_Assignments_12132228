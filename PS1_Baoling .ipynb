{
 "cells": [
  {
   "cell_type": "code",
   "execution_count": 1,
   "id": "cb96a979",
   "metadata": {},
   "outputs": [
    {
     "name": "stdout",
     "output_type": "stream",
     "text": [
      "please input the 1st number as the value of a:10\n",
      "please input the 2nd number as the value of b:5\n",
      "please input the 3rd number as the value of c:1\n",
      "x+y-10*z =  5.0\n"
     ]
    }
   ],
   "source": [
    "# 1. Flowchart: Print_values\n",
    "# Ask users to input 3 numbers to assign a,b,c\n",
    "a=float(input(\"please input the 1st number as the value of a:\"))\n",
    "b=float(input(\"please input the 2nd number as the value of b:\"))\n",
    "c=float(input(\"please input the 3rd number as the value of c:\"))\n",
    "# Compare number size for a,b,c\n",
    "if(a>b):\n",
    "    if(b>c):\n",
    "        # Based on the number size of a,b,c, assign x,y,z \n",
    "        x=a\n",
    "        y=b\n",
    "        z=c\n",
    "        # Output the value of (x+y-10*z)\n",
    "        print(\"x+y-10*z = \", x+y-10*z)\n",
    "    elif(a>c):\n",
    "        x=a\n",
    "        y=c\n",
    "        z=b\n",
    "        print(\"x+y-10*z = \", x+y-10*z)\n",
    "    else:\n",
    "        x=c\n",
    "        y=a\n",
    "        z=b\n",
    "        print(\"x+y-10*z = \", x+y-10*z)\n",
    "elif(b>c):\n",
    "    print(None)\n",
    "else:    \n",
    "    x=c\n",
    "    y=b\n",
    "    z=a\n",
    "    print(\"x+y-10*z = \", x+y-10*z)"
   ]
  },
  {
   "cell_type": "code",
   "execution_count": 2,
   "id": "8d7f943e",
   "metadata": {},
   "outputs": [
    {
     "name": "stdout",
     "output_type": "stream",
     "text": [
      "Please input the range of the positive intergers (>0):20\n",
      "Please input the number of positive intergers:9\n",
      "The random list is shown below:\n",
      " [ 1 11  4 15 18  8  2 15 15]\n",
      "x= 1 ,F(x)= 1\n",
      "x= 11 ,F(x)= 35\n",
      "x= 4 ,F(x)= 13\n",
      "x= 15 ,F(x)= 45\n",
      "x= 18 ,F(x)= 53\n",
      "x= 8 ,F(x)= 23\n",
      "x= 2 ,F(x)= 5\n",
      "x= 15 ,F(x)= 45\n",
      "x= 15 ,F(x)= 45\n"
     ]
    }
   ],
   "source": [
    "# 2. Continuous celing function\n",
    "from math import *\n",
    "import numpy as np\n",
    "# Ask users to input the range and the item number to create a random list\n",
    "M=int(input(\"Please input the range of the positive intergers (>0):\"))\n",
    "N=int(input(\"Please input the number of positive intergers:\"))\n",
    "list=np.random.randint(1,M+1,N)\n",
    "print(\"The random list is shown below:\\n\",list)\n",
    "# Define a function F(x) to get the value of F(x) = F(ceil(x/3)) + 2x, where F(1) = 1\n",
    "y=0\n",
    "def F(x):\n",
    "    if(x==1):\n",
    "        return 1\n",
    "    else:\n",
    "        y=F(ceil(x/3))+2*x\n",
    "        return y\n",
    "# Use a \"for\" loop and the function F(x) to get the value of F(list[i])\n",
    "for i in range(N):\n",
    "    print (\"x=\", list[i],\",F(x)=\", F(list[i]))"
   ]
  },
  {
   "cell_type": "code",
   "execution_count": 23,
   "id": "982e9c72",
   "metadata": {
    "scrolled": false
   },
   "outputs": [
    {
     "name": "stdout",
     "output_type": "stream",
     "text": [
      "Please input a sum X:13\n",
      "The number of ways is 220\n",
      "Number of ways are listed below\n",
      " [1, 10, 55, 220, 715, 2002, 4995, 11340, 23760, 46420, 85228, 147940, 243925, 383470, 576565, 831204, 1151370, 1535040, 1972630, 2446300, 2930455, 3393610, 3801535, 4121260, 4325310, 4395456, 4325310, 4121260, 3801535, 3393610, 2930455, 2446300, 1972630, 1535040, 1151370, 831204, 576565, 383470, 243925, 147940, 85228, 46420, 23760, 11340, 4995, 2002, 715, 220, 55, 10, 1]\n"
     ]
    }
   ],
   "source": [
    "# 3. Dice Rolling\n",
    "# 3.1 Find_number_of_ways\n",
    "# Set the total number of dices(D)\n",
    "D=10\n",
    "# Define a function to calculate the probability of sum X for D dices\n",
    "prob=0\n",
    "def Prob(D,X):\n",
    "    # For each dice, the probability to toss“0/1/2/3/4/5/6” is (1/6).\n",
    "    # When sum X is equal to the number of dices(D), the probability is (1/6)^D\n",
    "    if X==D:\n",
    "        return pow(1/6,D)\n",
    "    # When sum X is smaller than D or larger than 6D, the probability is 0\n",
    "    if X<D or X>6*D:\n",
    "        return 0\n",
    "    else:\n",
    "    # The probability of sum X for D dices is equal to the probability of \n",
    "    # sum (X-a) for (D-1) dices, where \"a\" is the potint of the last dice, belonging to 0-6.\n",
    "    # Inspired from https://blog.csdn.net/yue_luo_/article/details/95517498\n",
    "        prob = (Prob(D-1, X-1) + Prob(D-1, X-2) + Prob(D-1, X-3) + Prob(D-1, X-4) + Prob(D-1, X-5) + Prob(D-1, X-6))*1/6  \n",
    "        return prob\n",
    "# Define a function to calculate the number of ways to reach sum X\n",
    "def Find_number_of_ways(X):\n",
    "    # The total number of ways is (6^10). The number of ways for each sum(X) is probability*(6^10).\n",
    "    print(\"The number of ways is\",round(Prob(D,X)*(6**10)))\n",
    "# Ask users to input a sum X and find its number of ways\n",
    "x=int(input(\"Please input a sum X:\"))\n",
    "Find_number_of_ways(x)\n",
    "\n",
    "# 3.2 List: Number_of_ways\n",
    "# Use a \"for\" loop to calculate 51 times to get Number_of_ways for sum X, 10-60 respectively.(Consume around 2.5 minutes)\n",
    "Number_of_ways=[]\n",
    "for i in range(10,61):\n",
    "    ways_number=round(Prob(D,i)*(6**10))\n",
    "    Number_of_ways.append(ways_number)\n",
    "print(\"Number of ways are listed below\\n\", Number_of_ways)"
   ]
  },
  {
   "cell_type": "code",
   "execution_count": 17,
   "id": "b62fe35b",
   "metadata": {},
   "outputs": [
    {
     "name": "stdout",
     "output_type": "stream",
     "text": [
      "Please input the number of elements to create an array:5\n",
      "[0 7 3 3 1]\n",
      "The Sum_averages for each subset is:\n",
      " 86.8\n",
      "Sum_averages with N increasing from 1 to 100 are shown below:\n",
      " [3.0, 10.5, 37.333333333333336, 56.25, 167.4, 399.0, 508.0, 796.875, 2611.7777777777783, 4398.9, 14701.181818181818, 18768.749999999996, 42215.153846153844, 70212.85714285714, 163835.0, 307195.3125, 609094.6470588235, 1470913.5, 2621435.0, 4666158.75, 10485755.0, 17730462.68181818, 43766645.217391305, 81788923.125, 194615699.8, 268435452.0, 676059661.9259259, 1313416333.3928573, 2647328974.9310346, 5440291903.2, 12815628215.967741, 18522046459.6875, 42168769810.36364, 83878184834.64706, 151182848814.80002, 356959504151.24994, 583186910674.2433, 1323754130804.4473, 2382275193510.3335, 5964850580679.376, 11263289845505.123, 20105355479328.0, 48480791773559.51, 107152405906891.34, 150119987579012.28, 439039773456288.7, 676737709963912.9, 1254909271168336.8, 2676884472391131.5, 5832161517444786.0, 1.170052844365864e+16, 2.269121350713595e+16, 4.503599627370496e+16, 9.407519221618366e+16, 1.9324536582898858e+17, 3.641481984416715e+17, 7.787276829362038e+17, 1.58029757959042e+18, 3.1363373133796424e+18, 5.514807863702749e+18, 1.1340211520723087e+19, 2.164517147358661e+19, 4.977692845286706e+19, 9.511602413006488e+19, 1.725480061048524e+20, 3.4881116066650784e+20, 6.916152404949014e+20, 1.4019525496019251e+21, 3.088359239702794e+21, 6.459522724782407e+21, 1.2604062654983066e+22, 2.0725941785927885e+22, 5.2657620781587556e+22, 9.623417102928948e+22, 2.095471420665357e+23, 4.0662060873551256e+23, 7.2810305044972e+23, 1.518906799002996e+24, 3.0911774121791793e+24, 5.757509215914672e+24, 1.3223558965167422e+25, 2.606562011071543e+25, 5.208576784267366e+25, 8.38188568266143e+25, 1.902422560372386e+26, 3.562676275850368e+26, 7.754911740350942e+26, 1.50522254776745e+27, 3.0878953788916237e+27, 5.57073017678421e+27, 1.2814719967108e+28, 2.5243212105427966e+28, 5.239281714652966e+28, 9.52423655756582e+28, 2.180859420787382e+29, 4.068696262451284e+29, 8.29853743448377e+29, 1.584563250285287e+30, 2.9834605035674493e+30, 6.274870471129735e+30]\n"
     ]
    },
    {
     "data": {
      "image/png": "[encoded data removed]",
      "text/plain": [
       "<Figure size 432x288 with 1 Axes>"
      ]
     },
     "metadata": {
      "needs_background": "light"
     },
     "output_type": "display_data"
    }
   ],
   "source": [
    "# 4.Dynamic programming\n",
    "import numpy as np\n",
    "import math\n",
    "# 4.1 Random_integer function\n",
    "# Ask users to decide the size of an array and create an array\n",
    "N=int(input(\"Please input the number of elements to create an array:\"))\n",
    "Random_interger=np.random.randint(0,11,N)\n",
    "print(Random_interger)\n",
    "\n",
    "# 4.2 Sum_averages function\n",
    "# Define a function to calculate the sum of subset average(SA)\n",
    "def Sum_averages(array):\n",
    "    SA=0\n",
    "    # For an array with N elements, sum of all subset average with n elements (n<=N) is equal to (array.sum() * C(N-1,n-1)/n)\n",
    "    # Here use a \"for\" loop to achieve the sum of C(N-1,n-1)/n for all subsets, whose element number increasing from 1 to N\n",
    "    # Discussed with Wenting Yuan and inspired from https://www.geeksforgeeks.org/sum-average-subsets/\n",
    "    for i in range(0,len(array)):\n",
    "        SA+=(math.factorial(len(array)-1)/math.factorial(len(array)-1-i)/math.factorial(i))/(i+1)\n",
    "    SA=SA*array.sum()\n",
    "    return SA\n",
    "print(\"The Sum_averages for each subset is:\\n\", Sum_averages(Random_interger))\n",
    "\n",
    "# 4.3 Total_sum_set function\n",
    "import matplotlib.pyplot as plt\n",
    "Total_sum_set=[]\n",
    "# Use a \"for\" loop to calculate Sum_averages for random list with N increasing from 1 to 100\n",
    "# Each result of Sum_averages(np.random.randint(0,11,j+1)) appended in the Total_sum_set\n",
    "for j in range(100):\n",
    "    sum=Sum_averages(np.random.randint(0,11,j+1))\n",
    "    Total_sum_set.append(sum)\n",
    "print(\"Sum_averages with N increasing from 1 to 100 are shown below:\\n\",Total_sum_set)\n",
    "# Plot Total_sum_set\n",
    "x=np.arange(1,101,1)\n",
    "y=Total_sum_set\n",
    "plt.plot(x, y, ls=\"-\", lw=2, label=\"plot line:Total_sum_set vs. len(Random_interger)\")\n",
    "plt.legend()\n",
    "plt.show()\n",
    "\n"
   ]
  },
  {
   "cell_type": "code",
   "execution_count": 18,
   "id": "84280540",
   "metadata": {},
   "outputs": [
    {
     "name": "stdout",
     "output_type": "stream",
     "text": [
      "Please input the number of rows:6\n",
      "Please input the number of columns:7\n",
      "[[1 1 1 1 1 1 0]\n",
      " [1 0 1 0 1 1 0]\n",
      " [1 0 0 1 0 0 1]\n",
      " [0 0 1 0 0 1 1]\n",
      " [1 0 1 0 0 1 0]\n",
      " [1 1 1 0 0 1 1]]\n",
      "0\n",
      "The mean of Count_path for matrixes with size(10,8) from the 1000 runs is\n",
      " 0.018\n"
     ]
    }
   ],
   "source": [
    "# 5. Path counting\n",
    "# 5.1 Create a matrix\n",
    "import numpy as np\n",
    "# Ask users to decide the size of a matrix and create a matrix\n",
    "N = int(input(\"Please input the number of rows:\"))\n",
    "M = int(input(\"Please input the number of columns:\"))\n",
    "arr=np.random.randint(2,size=(N,M))\n",
    "arr[0,0]=1\n",
    "arr[N-1,M-1]=1\n",
    "print(arr)\n",
    "\n",
    "# 5.2 Count_path function\n",
    "# Define a function Count_path(matrix,a,b) to count the pathway for a specific matrix, where \"a\" is row number, \"b\" is column number.\n",
    "# Regard each element as a point, the pathway number to a point is equal to the pathway number to\n",
    "# its upper point plus that of its left point, because it was only allowed to move either rightward or downward.\n",
    "# Inspired from https://www.geeksforgeeks.org/count-number-of-ways-to-reach-destination-in-a-maze/?ref=rp\n",
    "def Count_path(matrix,a,b):\n",
    "    # Substract 1 from each element for counting purposes, and the matrix is refilled by -1 or 0, which were 0 or 1 before, respectively.\n",
    "    matrix=np.add(matrix,-1)\n",
    "    # Initialize the leftmost column\n",
    "    for i in range(a):\n",
    "        # If meet a blockage, break the loop\n",
    "        if(matrix[i,0] != 0):\n",
    "            break\n",
    "        # If meet an access, each element plus 1, which means the pathway number from entrance[0,0] to the element[i,0] is 1\n",
    "        else:\n",
    "            matrix[i,0] +=1\n",
    "    # Initialize the uppermost row, whose solution is similar to the leftmost column      \n",
    "    for j in range(b):\n",
    "        if(matrix[0,j] != 0):\n",
    "            break\n",
    "        else:\n",
    "            matrix[0,j] +=1\n",
    "    # Since the pathway number to a point is equal to the pathway number to its upper point plus that of its left point,\n",
    "    # two \"for\" loops were used to count the pathways for each point, up to the last element[a-1,b-1]\n",
    "    for i in range(1,a,1):\n",
    "        for j in range(1,b,1):\n",
    "            if(matrix[i,j] != 0):\n",
    "                continue\n",
    "            if(matrix[i-1,j] >0):\n",
    "                matrix[i,j] += matrix[i-1,j]\n",
    "            if(matrix[i,j-1] >0):\n",
    "                matrix[i,j] += matrix[i,j-1]\n",
    "    Count_path = matrix[a-1,b-1]\n",
    "    # Return the pathway number of the last element[a-1,b-1]\n",
    "    if (Count_path >= 0):\n",
    "        return Count_path\n",
    "    # If the value of last element[a-1,b-1] is smaller than zero, return 0\n",
    "    else:\n",
    "        return 0\n",
    "# Print the pathway number for the matrix in 5.1\n",
    "print(Count_path(arr,N,M))\n",
    "\n",
    "# 5.3 Count_path function\n",
    "# Calculate the mean pathway number for 1000 runs by refilling new random matrix\n",
    "sum_path=0\n",
    "for k in range(1000):\n",
    "    sum_path += Count_path(np.random.randint(2,size=(10,8)),10,8)\n",
    "print(\"The mean of Count_path for matrixes with size(10,8) from the 1000 runs is\\n\", sum_path/1000)    "
   ]
  }
 ],
 "metadata": {
  "kernelspec": {
   "display_name": "Python 3 (ipykernel)",
   "language": "python",
   "name": "python3"
  },
  "language_info": {
   "codemirror_mode": {
    "name": "ipython",
    "version": 3
   },
   "file_extension": ".py",
   "mimetype": "text/x-python",
   "name": "python",
   "nbconvert_exporter": "python",
   "pygments_lexer": "ipython3",
   "version": "3.9.12"
  }
 },
 "nbformat": 4,
 "nbformat_minor": 5
}
