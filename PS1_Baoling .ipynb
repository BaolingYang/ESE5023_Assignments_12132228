{
 "cells": [
  {
   "cell_type": "code",
   "execution_count": 3,
   "id": "4bac5770",
   "metadata": {
    "slideshow": {
     "slide_type": "-"
    }
   },
   "outputs": [
    {
     "name": "stdout",
     "output_type": "stream",
     "text": [
      "please input the 1st number as the value of a:10\n",
      "please input the 2nd number as the value of b:5\n",
      "please input the 3rd number as the value of c:1\n",
      "x+y-10*z =  5.0\n"
     ]
    }
   ],
   "source": [
    "# 1. Flowchart: Print_values\n",
    "# Ask users to input 3 numbers to assign a,b,c\n",
    "a=float(input(\"please input the 1st number as the value of a:\"))\n",
    "b=float(input(\"please input the 2nd number as the value of b:\"))\n",
    "c=float(input(\"please input the 3rd number as the value of c:\"))\n",
    "# Compare number size for a,b,c\n",
    "if(a>b):\n",
    "    if(b>c):\n",
    "        # Based on the number size of a,b,c, assign x,y,z \n",
    "        x=a\n",
    "        y=b\n",
    "        z=c\n",
    "        # Output the value of (x+y-10*z)\n",
    "        print(\"x+y-10*z = \", x+y-10*z)\n",
    "    elif(a>c):\n",
    "        x=a\n",
    "        y=c\n",
    "        z=b\n",
    "        print(\"x+y-10*z = \", x+y-10*z)\n",
    "    else:\n",
    "        x=c\n",
    "        y=a\n",
    "        z=b\n",
    "        print(\"x+y-10*z = \", x+y-10*z)\n",
    "elif(b>c):\n",
    "    print(None)\n",
    "else:    \n",
    "    x=c\n",
    "    y=b\n",
    "    z=a\n",
    "    print(\"x+y-10*z = \", x+y-10*z)"
   ]
  },
  {
   "cell_type": "code",
   "execution_count": 29,
   "id": "8d7f943e",
   "metadata": {
    "slideshow": {
     "slide_type": "notes"
    }
   },
   "outputs": [
    {
     "name": "stdout",
     "output_type": "stream",
     "text": [
      "Please input the range of positive intergers (>0):50\n",
      "Please input the number of positive intergers:9\n",
      "The random list is shown below:\n",
      " [40 49 27  5 40  4 42 15 24]\n",
      "x= 40 ,F(x)= 123\n",
      "x= 49 ,F(x)= 149\n",
      "x= 27 ,F(x)= 79\n",
      "x= 5 ,F(x)= 15\n",
      "x= 40 ,F(x)= 123\n",
      "x= 4 ,F(x)= 13\n",
      "x= 42 ,F(x)= 127\n",
      "x= 15 ,F(x)= 45\n",
      "x= 24 ,F(x)= 71\n"
     ]
    }
   ],
   "source": [
    "# 2. Continuous celing function\n",
    "from math import *\n",
    "import numpy as np\n",
    "# Ask users to input the range and the item number to create a random list\n",
    "M=int(input(\"Please input the range of positive intergers (>0):\"))\n",
    "N=int(input(\"Please input the number of positive intergers:\"))\n",
    "list=np.random.randint(1,M+1,N)\n",
    "print(\"The random list is shown below:\\n\",list)\n",
    "# Define a function F(x) to get the value of F(x) = F(ceil(x/3)) + 2x, where F(1) = 1\n",
    "y=0\n",
    "def F(x):\n",
    "    if(x==1):\n",
    "        return 1\n",
    "    else:\n",
    "        y=F(ceil(x/3))+2*x\n",
    "        return y\n",
    "# Use a \"for\" loop and the function F(x) to get the value of F(list[i])\n",
    "for i in range(N):\n",
    "    print (\"x=\", list[i],\",F(x)=\", F(list[i]))"
   ]
  },
  {
   "cell_type": "code",
   "execution_count": 9,
   "id": "982e9c72",
   "metadata": {
    "scrolled": false,
    "slideshow": {
     "slide_type": "notes"
    }
   },
   "outputs": [
    {
     "name": "stdout",
     "output_type": "stream",
     "text": [
      "Please input a sum X:13\n",
      "The number of ways is 220\n",
      "Number of ways are listed below\n",
      " [1, 10, 55, 220, 715, 2002, 4995, 11340, 23760, 46420, 85228, 147940, 243925, 383470, 576565, 831204, 1151370, 1535040, 1972630, 2446300, 2930455, 3393610, 3801535, 4121260, 4325310, 4395456, 4325310, 4121260, 3801535, 3393610, 2930455, 2446300, 1972630, 1535040, 1151370, 831204, 576565, 383470, 243925, 147940, 85228, 46420, 23760, 11340, 4995, 2002, 715, 220, 55, 10, 1]\n",
      "35 yields the maximum of Number_of_ways\n"
     ]
    }
   ],
   "source": [
    "# 3. Dice Rolling\n",
    "# 3.1 Find_number_of_ways\n",
    "# Set the total number of dices(D)\n",
    "D=10\n",
    "# Define a function to calculate the probability of sum X for D dices\n",
    "def Prob(D,X):\n",
    "    prob=0\n",
    "    # For each dice, the probability to toss“0/1/2/3/4/5/6” is (1/6).\n",
    "    # When sum X is equal to the number of dices(D), the probability is (1/6)^D\n",
    "    if X==D:\n",
    "        return pow(1/6,D)\n",
    "    # When sum X is smaller than D or larger than 6D, the probability is 0\n",
    "    if X<D or X>6*D:\n",
    "        return 0\n",
    "    else:\n",
    "    # The probability of sum X for D dices is equal to the probability of \n",
    "    # sum (X-a) for (D-1) dices, where \"a\" is the potint of the last dice, belonging to 1-6.\n",
    "    # Inspired from https://blog.csdn.net/yue_luo_/article/details/95517498\n",
    "        for i in range(6):\n",
    "            prob += Prob(D-1, X-i-1)\n",
    "        return prob/6\n",
    "# Define a function to calculate the number of ways to reach sum X\n",
    "def Find_number_of_ways(X):\n",
    "    # The total number of ways is (6^10). The number of ways for each sum(X) is probability*(6^10).\n",
    "    print(\"The number of ways is\",round(Prob(D,X)*(6**10)))\n",
    "# Ask users to input a sum X and find its number of ways\n",
    "x=int(input(\"Please input a sum X:\"))\n",
    "Find_number_of_ways(x)\n",
    "\n",
    "# 3.2 List: Number_of_ways\n",
    "# Use a \"for\" loop to calculate 51 times to get Number_of_ways for sum X, 10-60 respectively.\n",
    "# Consume around 2.5 min\n",
    "Number_of_ways=[]\n",
    "for i in range(10,61):\n",
    "    ways_number=round(Prob(D,i)*(6**10))\n",
    "    Number_of_ways.append(ways_number)\n",
    "print(\"Number of ways are listed below\\n\", Number_of_ways)\n",
    "print(Number_of_ways.index(max(Number_of_ways))+10,\"yields the maximum of Number_of_ways\")"
   ]
  },
  {
   "cell_type": "code",
   "execution_count": 10,
   "id": "b62fe35b",
   "metadata": {
    "slideshow": {
     "slide_type": "notes"
    }
   },
   "outputs": [
    {
     "name": "stdout",
     "output_type": "stream",
     "text": [
      "Please input the number of elements to create an array:5\n",
      "[ 5  6 10  5  1]\n",
      "The Sum_averages for each subset is:\n",
      " 167.4\n",
      "Sum_averages with element number increasing from 1 to 100 are shown below:\n",
      " [7.0, 13.5, 49.0, 63.75, 229.4, 304.5, 598.7142857142857, 1816.875, 1816.8888888888891, 4194.3, 11165.454545454546, 23887.499999999996, 32764.0, 97127.78571428572, 148543.73333333334, 344058.75, 701615.3529411765, 1441786.5, 2207524.2105263155, 5976877.5, 10585619.333333332, 22687366.227272727, 40119424.782608695, 75497467.5, 153008205.35999998, 340706535.2307692, 656175554.2222221, 1476395002.5000002, 2813944085.2413793, 4402341474.3, 9213397582.290323, 22682796026.71875, 36702447797.90909, 86909926455.17647, 177688932697.9143, 299693273538.74994, 676051068424.919, 1511828488186.5, 2960223613237.693, 6102289534151.251, 11102385704855.049, 27540148390954.5, 45616947533771.19, 104353649036188.95, 206414982921141.88, 336546167806214.3, 655776807442906.8, 1477743627730938.5, 2768794668868080.0, 6327557476455540.0, 1.0773316755670596e+16, 2.5289444061388164e+16, 4.214689462595785e+16, 8.139839326506672e+16, 1.7359329472773552e+17, 3.319796296747394e+17, 8.217094056956695e+17, 1.6598094074943404e+18, 3.390370865242168e+18, 5.265008204371266e+18, 1.3305848184315089e+19, 2.685191375245624e+19, 4.45064301460929e+19, 1.0491585691922307e+20, 1.9581928324399366e+20, 3.8458666432461124e+20, 5.682698472856196e+20, 1.5842497851538785e+21, 3.0626942044698066e+21, 5.599377401116864e+21, 1.1406842983269634e+22, 2.81374336270983e+22, 4.774118444325751e+22, 8.959733164795918e+22, 1.9997647932791986e+23, 3.8872532522148024e+23, 8.223050623677431e+23, 1.3832901205205858e+24, 2.7392116672280845e+24, 5.787732361405038e+24, 1.2686258600894255e+25, 2.494515227790187e+25, 5.663016369471901e+25, 9.901678141605537e+25, 1.9524863119611328e+26, 3.8955525945535586e+26, 8.359652564139777e+26, 1.4243344202005078e+27, 2.900117957202268e+27, 6.134680639125328e+27, 1.2161740605726701e+28, 2.346703726645329e+28, 4.057248644883699e+28, 9.861377674647796e+28, 1.7847186082160604e+29, 3.738578918641849e+29, 9.033644096987254e+29, 1.5813294477336846e+30, 3.546860770335551e+30, 5.831192761049855e+30]\n"
     ]
    },
    {
     "data": {
      "image/png": "[encoded data removed]",
      "text/plain": [
       "<Figure size 432x288 with 1 Axes>"
      ]
     },
     "metadata": {
      "needs_background": "light"
     },
     "output_type": "display_data"
    }
   ],
   "source": [
    "# 4.Dynamic programming\n",
    "import numpy as np\n",
    "import math\n",
    "# 4.1 Random_integer function\n",
    "# Ask users to decide the size of an array and create an array\n",
    "N=int(input(\"Please input the number of elements to create an array:\"))\n",
    "Random_interger=np.random.randint(0,11,N)\n",
    "print(Random_interger)\n",
    "\n",
    "# 4.2 Sum_averages function\n",
    "# Define a function to calculate the sum of subset average(SA)\n",
    "def Sum_averages(array):\n",
    "    # For an array with N elements, sum of all subset average with n elements (n<=N) is \n",
    "    # equal to (array.sum() * C(N-1,n-1)/n).Here use a \"for\" loop to achieve the sum of C(N-1,n-1)/n \n",
    "    # for all subsets, whose element number increasing from 1 to N\n",
    "    # Discussed with Wenting Yuan and inspired from https://www.geeksforgeeks.org/sum-average-subsets/\n",
    "    SA=0\n",
    "    for i in range(0,len(array)):\n",
    "        SA+=(math.factorial(len(array)-1)/math.factorial(len(array)-1-i)/math.factorial(i))/(i+1)\n",
    "    SA=SA*array.sum()\n",
    "    return SA\n",
    "print(\"The Sum_averages for each subset is:\\n\", Sum_averages(Random_interger))\n",
    "\n",
    "# 4.3 Total_sum_set function\n",
    "import matplotlib.pyplot as plt\n",
    "Total_sum_set=[]\n",
    "# Use a \"for\" loop to calculate Sum_averages for random list with N increasing from 1 to 100\n",
    "# Each result of Sum_averages(np.random.randint(0,11,j+1)) appended in the Total_sum_set\n",
    "for j in range(100):\n",
    "    sum=Sum_averages(np.random.randint(0,11,j+1))\n",
    "    Total_sum_set.append(sum)\n",
    "print(\"Sum_averages with element number increasing from 1 to 100 are shown below:\\n\",Total_sum_set)\n",
    "# Plot Total_sum_set\n",
    "x=np.arange(1,101,1)\n",
    "y=Total_sum_set\n",
    "plt.plot(x, y, ls=\"-\", lw=2, label=\"plot line:Total_sum_set vs. len(Random_interger)\")\n",
    "plt.legend()\n",
    "plt.xlabel(\"Element number of an array\")\n",
    "plt.ylabel(\"Sum_averages\")\n",
    "plt.show()\n",
    "\n"
   ]
  },
  {
   "cell_type": "code",
   "execution_count": 13,
   "id": "84280540",
   "metadata": {
    "slideshow": {
     "slide_type": "notes"
    }
   },
   "outputs": [
    {
     "name": "stdout",
     "output_type": "stream",
     "text": [
      "Please input the number of rows:6\n",
      "Please input the number of columns:7\n",
      "[[1 1 1 0 0 0 0]\n",
      " [0 1 1 0 0 1 1]\n",
      " [1 1 1 0 1 0 0]\n",
      " [0 0 0 0 0 0 0]\n",
      " [0 0 0 1 0 0 0]\n",
      " [0 0 1 0 1 1 1]]\n",
      "The Count_path value of the matrix above is 0\n",
      "The mean of Count_path for matrixes with size(10,8) from the 1000 runs is\n",
      " 0.106\n"
     ]
    }
   ],
   "source": [
    "# 5. Path counting\n",
    "# 5.1 Create a matrix\n",
    "import numpy as np\n",
    "# Ask users to decide the size of a matrix and create a matrix\n",
    "N = int(input(\"Please input the number of rows:\"))\n",
    "M = int(input(\"Please input the number of columns:\"))\n",
    "arr=np.random.randint(2,size=(N,M))\n",
    "arr[0,0]=1\n",
    "arr[N-1,M-1]=1\n",
    "print(arr)\n",
    "\n",
    "# 5.2 Count_path function\n",
    "# Define a function Count_path(matrix,a,b) to count the pathway for a specific matrix, \n",
    "# where \"a\" is row number, \"b\" is column number.\n",
    "# Regard each element as a point, the number of pathways to a point is equal to \n",
    "# the pathway number of its upper point plus that of its left point, because \n",
    "# only moving either rightward or downward is allowed.\n",
    "# Inspired from https://www.geeksforgeeks.org/count-number-of-ways-to-reach-destination-in-a-maze/?ref=rp\n",
    "def Count_path(matrix,a,b):\n",
    "    # Substract 1 from each element for counting purposes, and the matrix is\n",
    "    # refilled by -1 or 0, which were 0 or 1 before, respectively.\n",
    "    matrix=np.add(matrix,-1)\n",
    "    # Initialize the leftmost column\n",
    "    for i in range(a):\n",
    "        # If meet a blockage, break the loop\n",
    "        if(matrix[i,0] != 0):\n",
    "            break\n",
    "        # If meet an access, each element plus 1, which means \n",
    "        # the number of pathways from entrance[0,0] to the element[i,0] is 1\n",
    "        else:\n",
    "            matrix[i,0] +=1\n",
    "    # Initialize the uppermost row, whose solution is similar to the leftmost column      \n",
    "    for j in range(b):\n",
    "        if(matrix[0,j] != 0):\n",
    "            break\n",
    "        else:\n",
    "            matrix[0,j] +=1\n",
    "    # Since the pathway number of a point is equal to the pathway number of \n",
    "    # its upper point plus that of its left point,\n",
    "    # two \"for\" loops were used to count the pathways for each point, up to the last element[a-1,b-1]\n",
    "    for i in range(1,a,1):\n",
    "        for j in range(1,b,1):\n",
    "            if(matrix[i,j] != 0):\n",
    "                continue\n",
    "            if(matrix[i-1,j] >0):\n",
    "                matrix[i,j] += matrix[i-1,j]\n",
    "            if(matrix[i,j-1] >0):\n",
    "                matrix[i,j] += matrix[i,j-1]\n",
    "    Count_path = matrix[a-1,b-1]\n",
    "    # Return the pathway number of the last element[a-1,b-1]\n",
    "    if (Count_path >= 0):\n",
    "        return Count_path\n",
    "    # If the value of last element[a-1,b-1] is smaller than zero, return 0\n",
    "    else:\n",
    "        return 0\n",
    "# Print the pathway number of the matrix in 5.1\n",
    "print(\"The Count_path value of the matrix above is\",Count_path(arr,N,M))\n",
    "\n",
    "# 5.3 Count_path function\n",
    "# Calculate the mean pathway number for 1000 runs by refilling new random matrix\n",
    "sum_path=0\n",
    "for k in range(1000):\n",
    "    sum_path += Count_path(np.random.randint(2,size=(10,8)),10,8)\n",
    "print(\"The mean of Count_path for matrixes with size(10,8) from the 1000 runs is\\n\", sum_path/1000)    "
   ]
  }
 ],
 "metadata": {
  "celltoolbar": "编辑元数据",
  "kernelspec": {
   "display_name": "Python 3 (ipykernel)",
   "language": "python",
   "name": "python3"
  },
  "language_info": {
   "codemirror_mode": {
    "name": "ipython",
    "version": 3
   },
   "file_extension": ".py",
   "mimetype": "text/x-python",
   "name": "python",
   "nbconvert_exporter": "python",
   "pygments_lexer": "ipython3",
   "version": "3.9.12"
  }
 },
 "nbformat": 4,
 "nbformat_minor": 5
}
